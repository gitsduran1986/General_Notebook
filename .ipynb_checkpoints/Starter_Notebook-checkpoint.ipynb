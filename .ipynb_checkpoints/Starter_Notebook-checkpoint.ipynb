{
 "cells": [
  {
   "cell_type": "markdown",
   "metadata": {},
   "source": [
    "<img src=\"Images/DSD.PNG\">"
   ]
  },
  {
   "cell_type": "markdown",
   "metadata": {
    "heading_collapsed": true
   },
   "source": [
    "# Introduction"
   ]
  },
  {
   "cell_type": "markdown",
   "metadata": {
    "heading_collapsed": true,
    "hidden": true
   },
   "source": [
    "## About this Notebook"
   ]
  },
  {
   "cell_type": "markdown",
   "metadata": {
    "hidden": true
   },
   "source": [
    "This notebook is a starting point for several types of analysis and is meant to work with relatively little presumptions about the data. That said, the notebook is built to work with tabular, structured data. In building this, I had the following process in mind:  Take data in csv form from any data source, upload into this workbook via the local csv or s3 upload widgets, perform basic EDA, then the user can add their own feature engineering and/or further analysis (clustering, anomaly detection, etc) from there.     "
   ]
  },
  {
   "cell_type": "markdown",
   "metadata": {
    "heading_collapsed": true,
    "hidden": true
   },
   "source": [
    "## Getting Started"
   ]
  },
  {
   "cell_type": "markdown",
   "metadata": {
    "hidden": true
   },
   "source": [
    "1. Make sure you have data in csv\n",
    "2. If data is located on your local machine, use section 2 to upload into notebook, CLICK RUN!?!?\n",
    "3. If data is located in s3 bucket, use section 3 to upload into notebook, CLICK RUN?!?!\n",
    "4. Section 5 provides an overview of the data (null counts and data types)\n",
    "5. Section 6, includes dashboard like tools that allow a user to explore the data\n",
    "6. If you like, add more feature engineering and rerun the notebook\n",
    "7. If you like do deeper analysis on the data set.   "
   ]
  },
  {
   "cell_type": "markdown",
   "metadata": {},
   "source": [
    "# Import Data From Local Here"
   ]
  },
  {
   "cell_type": "code",
   "execution_count": 18,
   "metadata": {},
   "outputs": [
    {
     "data": {
      "application/vnd.jupyter.widget-view+json": {
       "model_id": "b57d181f23784ba4ad86419e6fa37469",
       "version_major": 2,
       "version_minor": 0
      },
      "text/plain": [
       "FileUpload(value={}, accept='.csv', description='Upload')"
      ]
     },
     "metadata": {},
     "output_type": "display_data"
    },
    {
     "name": "stderr",
     "output_type": "stream",
     "text": [
      "C:\\Users\\duran\\Anaconda3\\lib\\site-packages\\traitlets\\traitlets.py:1139: DtypeWarning: Columns (15,22) have mixed types.Specify dtype option on import or set low_memory=False.\n",
      "  type='change',\n"
     ]
    }
   ],
   "source": [
    "from IPython.display import Javascript, display\n",
    "from ipywidgets import widgets\n",
    "import pandas as pd\n",
    "import io\n",
    "\n",
    "uploader = widgets.FileUpload(\n",
    "    accept='.csv',  # Accepted file extension e.g. '.txt', '.pdf', 'image/*', 'image/*,.pdf'\n",
    "    multiple=False  # True to accept multiple files upload else False\n",
    ")\n",
    "\n",
    "def on_upload(change):\n",
    "    value = change['new']\n",
    "    df = pd.read_csv(io.BytesIO(uploader.value[next(iter(uploader.value))]['content']))\n",
    "    df.to_csv('use.csv')\n",
    "            \n",
    "uploader.observe(on_upload, 'value')\n",
    "\n",
    "display(uploader)"
   ]
  },
  {
   "cell_type": "code",
   "execution_count": 20,
   "metadata": {},
   "outputs": [
    {
     "ename": "SyntaxError",
     "evalue": "unexpected EOF while parsing (<ipython-input-20-8618d115f0da>, line 2)",
     "output_type": "error",
     "traceback": [
      "\u001b[1;36m  File \u001b[1;32m\"<ipython-input-20-8618d115f0da>\"\u001b[1;36m, line \u001b[1;32m2\u001b[0m\n\u001b[1;33m    df = pd.read_csv('use.csv')\u001b[0m\n\u001b[1;37m                               ^\u001b[0m\n\u001b[1;31mSyntaxError\u001b[0m\u001b[1;31m:\u001b[0m unexpected EOF while parsing\n"
     ]
    }
   ],
   "source": [
    "try:\n",
    "    df = pd.read_csv('use.csv')"
   ]
  },
  {
   "cell_type": "markdown",
   "metadata": {},
   "source": [
    "# Import Data From S3 Here"
   ]
  },
  {
   "cell_type": "code",
   "execution_count": 37,
   "metadata": {},
   "outputs": [
    {
     "data": {
      "application/vnd.jupyter.widget-view+json": {
       "model_id": "bb9e2f051b564b12b9240576508d5f20",
       "version_major": 2,
       "version_minor": 0
      },
      "text/plain": [
       "HBox(children=(FileUpload(value={}, accept='.csv', description='Upload Keys'), Text(value='', description='Buc…"
      ]
     },
     "metadata": {},
     "output_type": "display_data"
    }
   ],
   "source": [
    "key_uploader = widgets.FileUpload(\n",
    "    description='Upload Keys',\n",
    "    accept='.csv',  # Accepted file extension e.g. '.txt', '.pdf', 'image/*', 'image/*,.pdf'\n",
    "    multiple=False  # True to accept multiple files upload else False\n",
    ")\n",
    "\n",
    "bucket = widgets.Text(\n",
    "    placeholder='Bucket Name',\n",
    "    description='Bucket:',\n",
    "    disabled=False\n",
    ")\n",
    "\n",
    "key = widgets.Text(\n",
    "    placeholder='File Name',\n",
    "    description='Key:',\n",
    "    disabled=False\n",
    ")\n",
    "\n",
    "input_dash = widgets.HBox([key_uploader,bucket,key])\n",
    "\n",
    "display(input_dash)"
   ]
  },
  {
   "cell_type": "code",
   "execution_count": 38,
   "metadata": {},
   "outputs": [
    {
     "ename": "StopIteration",
     "evalue": "",
     "output_type": "error",
     "traceback": [
      "\u001b[1;31m---------------------------------------------------------------------------\u001b[0m",
      "\u001b[1;31mStopIteration\u001b[0m                             Traceback (most recent call last)",
      "\u001b[1;32m<ipython-input-38-7aa604b94e50>\u001b[0m in \u001b[0;36m<module>\u001b[1;34m\u001b[0m\n\u001b[0;32m      2\u001b[0m \u001b[1;32mimport\u001b[0m \u001b[0mpandas\u001b[0m \u001b[1;32mas\u001b[0m \u001b[0mpd\u001b[0m\u001b[1;33m\u001b[0m\u001b[1;33m\u001b[0m\u001b[0m\n\u001b[0;32m      3\u001b[0m \u001b[1;33m\u001b[0m\u001b[0m\n\u001b[1;32m----> 4\u001b[1;33m \u001b[0mkeys\u001b[0m \u001b[1;33m=\u001b[0m \u001b[0mpd\u001b[0m\u001b[1;33m.\u001b[0m\u001b[0mread_csv\u001b[0m\u001b[1;33m(\u001b[0m\u001b[0mio\u001b[0m\u001b[1;33m.\u001b[0m\u001b[0mBytesIO\u001b[0m\u001b[1;33m(\u001b[0m\u001b[0mkey_uploader\u001b[0m\u001b[1;33m.\u001b[0m\u001b[0mvalue\u001b[0m\u001b[1;33m[\u001b[0m\u001b[0mnext\u001b[0m\u001b[1;33m(\u001b[0m\u001b[0miter\u001b[0m\u001b[1;33m(\u001b[0m\u001b[0mkey_uploader\u001b[0m\u001b[1;33m.\u001b[0m\u001b[0mvalue\u001b[0m\u001b[1;33m)\u001b[0m\u001b[1;33m)\u001b[0m\u001b[1;33m]\u001b[0m\u001b[1;33m[\u001b[0m\u001b[1;34m'content'\u001b[0m\u001b[1;33m]\u001b[0m\u001b[1;33m)\u001b[0m\u001b[1;33m)\u001b[0m\u001b[1;33m\u001b[0m\u001b[1;33m\u001b[0m\u001b[0m\n\u001b[0m\u001b[0;32m      5\u001b[0m \u001b[1;33m\u001b[0m\u001b[0m\n\u001b[0;32m      6\u001b[0m \u001b[1;33m\u001b[0m\u001b[0m\n",
      "\u001b[1;31mStopIteration\u001b[0m: "
     ]
    }
   ],
   "source": [
    "import boto3\n",
    "import pandas as pd\n",
    "\n",
    "keys = pd.read_csv(io.BytesIO(key_uploader.value[next(iter(key_uploader.value))]['content']))\n",
    "\n",
    "\n",
    "bucket = bucket.value\n",
    "key = key.value\n",
    "\n",
    "s3 = boto3.client(\"s3\", \n",
    "                  region_name='us-gov-west-1', \n",
    "                  aws_access_key_id=keys['Access key ID'].iloc[0], \n",
    "                  aws_secret_access_key=keys['Secret access key'].iloc[0])\n",
    "\n",
    "response = s3.get_object(Bucket=bucket, Key=key)\n",
    "\n",
    "df = pd.read_csv(response['Body'])\n"
   ]
  },
  {
   "cell_type": "markdown",
   "metadata": {},
   "source": [
    "# Run Notebook"
   ]
  },
  {
   "cell_type": "code",
   "execution_count": 15,
   "metadata": {},
   "outputs": [
    {
     "data": {
      "application/vnd.jupyter.widget-view+json": {
       "model_id": "6a1b30733f88476a9351b4ba49ebbf3d",
       "version_major": 2,
       "version_minor": 0
      },
      "text/plain": [
       "Button(description='RUN', style=ButtonStyle())"
      ]
     },
     "metadata": {},
     "output_type": "display_data"
    }
   ],
   "source": [
    "def run_all(ev):\n",
    "    display(Javascript('IPython.notebook.execute_cells_below()'))\n",
    "\n",
    "csvbutton = widgets.Button(description=\"RUN\")\n",
    "csvbutton.on_click(run_all)\n",
    "display(csvbutton)"
   ]
  },
  {
   "cell_type": "markdown",
   "metadata": {},
   "source": [
    "# Results"
   ]
  },
  {
   "cell_type": "markdown",
   "metadata": {},
   "source": [
    "## Import Packages, Define Helper Functions"
   ]
  },
  {
   "cell_type": "code",
   "execution_count": 16,
   "metadata": {},
   "outputs": [],
   "source": [
    "#Import Required packages\n",
    "import pandas as pd\n",
    "import numpy as np\n",
    "import plotly.graph_objects as go\n",
    "import plotly.express as px\n",
    "import ipywidgets as widgets\n",
    "import missingno as msno\n",
    "from IPython.display import display\n",
    "import io"
   ]
  },
  {
   "cell_type": "code",
   "execution_count": 17,
   "metadata": {},
   "outputs": [],
   "source": [
    "def top10(df,column,direction):\n",
    "    '''This function performs an aggregation of a pandas dataframe according to unique values in a specified column and then sorts\n",
    "    according to the count of records for each unique value.  In addition, the function removes missing values and\n",
    "    also takes the mean of CERTVALIDTIME and CERTVALIDTIMEREMAINING for each unique value.  \n",
    "    \n",
    "    The function takes a data frame and a specified column as an input and returns a dataframe of aggregated values\n",
    "    '''\n",
    "    df_g = df\n",
    "    #ignore empty or nan values\n",
    "    df_g[column] = df[column].replace(np.nan, 'Missing', regex=True)\n",
    "    df_g[column] = df_g[column].replace('', 'Missing', regex=True)\n",
    "    #df_g = df_g[df_g[column] != 'Missing']\n",
    "    \n",
    "    #coerce all data into string\n",
    "    df[column].astype(str)\n",
    "    \n",
    "    #take dir value from dropdown and assign it boolean value accordingly\n",
    "    if direction == 'Ascending':\n",
    "        d = True\n",
    "    else:\n",
    "        d = False\n",
    "        \n",
    "    #create new dataframe with aggregated data grouped by unique values in defined column\n",
    "    df_g = df_g.groupby(column).agg({'Id': 'count'})\n",
    "    df_g.columns = ['Count']\n",
    "    \n",
    "    df_g = df_g.sort_values(by=['Count'],ascending=d)\n",
    "    \n",
    "    return df_g\n",
    "    \n",
    "def top10Common(feature,direction,count):\n",
    "    '''\n",
    "    This handles events from 3 different selector widgets in the display of categorical data in the section for Displaying and\n",
    "    Ploting Basic Info in the  Dataset.  Clears the current output and regenerates a new chart and table according to the newest column in the \n",
    "    dataframe selected. \n",
    "    '''\n",
    "    #clear previous output\n",
    "    output_feat1.clear_output()\n",
    "    plot_output1.clear_output()\n",
    "    \n",
    "    #convert float values from widget to integers\n",
    "    count = int(count)\n",
    "    \n",
    "    # redefine the dataframe using new column, direction values and row count according to widget inputes\n",
    "    with output_feat1:\n",
    "        display(top10(df,feature,direction).head(count))\n",
    "    \n",
    "    # redefine the plot using new column, direction values and row count according to widget inputes\n",
    "    with plot_output1:\n",
    "        top = top10(df,feature,direction)\n",
    "        layout = go.Layout(xaxis=dict(type='category'))\n",
    "        fig_2 = go.Figure(data=[go.Bar(\n",
    "                    x=top.index[0:count], y=top['Count'].iloc[0:count],\n",
    "                    text=top['Count'].iloc[0:count],\n",
    "                    textposition='auto',\n",
    "                    )],layout=layout)\n",
    "        \n",
    "        fig_2.update_layout(title_text='Top {} {}'.format(count,feature))\n",
    "\n",
    "        fig_2.show()\n",
    "        \n",
    "def dirEventHandler(change):\n",
    "    #This handles events from widgets, updates the common function with new value from dir widget, keeping old from others\n",
    "    top10Common(dropdown_feature.value,change.new,slider.value)\n",
    "    \n",
    "def featEventHandler(change):\n",
    "    #This handles events from widgets, updates the common function with new value from feat widget, keeping old from others\n",
    "    top10Common(change.new,dropdown_dir.value,slider.value)\n",
    "    \n",
    "def countHandler(change):\n",
    "    #This handles events from widgets, updates the common function with new value from slider widget, keeping old from others\n",
    "    top10Common(dropdown_feature.value,dropdown_dir.value,change.new)\n",
    "        \n",
    "        \n",
    "def EntryEventHandler(change5):\n",
    "    '''\n",
    "    This function handles events in the blacklist section of the notebook.   \n",
    "    Clears previous dataframe and generates a new filtered according the string entered selected by the user.   \n",
    "    '''\n",
    "    EntryCommon(change5.new,dropdown2.value)\n",
    "\n",
    "        \n",
    "def ColumnEventHandler(change6):\n",
    "    EntryCommon(entry2.value,change6.new)\n",
    "        \n",
    "def EntryCommon(entry,column):\n",
    "    #clear previous output\n",
    "    output_df2.clear_output()\n",
    "    \n",
    "    with output_df2:\n",
    "        dfUse2 = search_df[search_df[column].str.contains(entry)]\n",
    "        display(dfUse2)\n",
    "    \n",
    "def histcommon(feature,direction,count):\n",
    "    '''\n",
    "    This handles events from 3 different selector widgets in the display of numeric data (histogram) in the section for\n",
    "    Displaying and Ploting Basic Info in the  Dataset.  Clears the current output and regenerates a new chart and table\n",
    "    according to the newest column in the dataframe selected. \n",
    "    '''\n",
    "    output_feat2.clear_output()\n",
    "    plot_output2.clear_output()\n",
    "    \n",
    "    if direction == 'Ascending':\n",
    "        d = True\n",
    "    else:\n",
    "        d = False\n",
    "    \n",
    "    with output_feat2:\n",
    "        display(df.sort_values(by=[feature],ascending=d).filter([feature]).reset_index(drop=True).head(int(count)))\n",
    "\n",
    "    with plot_output2:\n",
    "        df_g = df.sort_values(by=[feature],ascending=d).filter([feature])\n",
    "        fig = px.histogram(df_g[feature], x=feature,nbins=60)\n",
    "        fig.show()\n",
    "        \n",
    "def dirEventHandler2(change2):\n",
    "    #This handles events from widgets, updates the common function with new value from dir widget, keeping old from others\n",
    "    histcommon(dropdown_feature2.value,change2.new,slider2.value)\n",
    "    \n",
    "def featEventHandler2(change2):\n",
    "    #This handles events from widgets, updates the common function with new value from feat widget, keeping old from others\n",
    "    histcommon(change2.new,dropdown_dir2.value,slider2.value)\n",
    "    \n",
    "def countHandler2(change2):\n",
    "    #This handles events from widgets, updates the common function with new value from slider widget, keeping old from others\n",
    "    histcommon(dropdown_feature2.value,dropdown_dir2.value,change2.new)"
   ]
  },
  {
   "cell_type": "markdown",
   "metadata": {
    "heading_collapsed": true
   },
   "source": [
    "## Data Overview (Nulls and Data Type)"
   ]
  },
  {
   "cell_type": "markdown",
   "metadata": {
    "heading_collapsed": true,
    "hidden": true
   },
   "source": [
    "### Visualize Null Values"
   ]
  },
  {
   "cell_type": "code",
   "execution_count": 7,
   "metadata": {
    "hidden": true,
    "scrolled": false
   },
   "outputs": [
    {
     "data": {
      "text/plain": [
       "<matplotlib.axes._subplots.AxesSubplot at 0x2a035ebf708>"
      ]
     },
     "execution_count": 7,
     "metadata": {},
     "output_type": "execute_result"
    },
    {
     "data": {
      "image/png": "[encoded data removed]",
      "text/plain": [
       "<Figure size 1800x720 with 2 Axes>"
      ]
     },
     "metadata": {
      "needs_background": "light"
     },
     "output_type": "display_data"
    }
   ],
   "source": [
    "#msno allows for very easy visualization of null values (white spaces), excluded less interesting columns to make readible\n",
    "msno.matrix(df.iloc[:,3:])"
   ]
  },
  {
   "cell_type": "markdown",
   "metadata": {
    "heading_collapsed": true,
    "hidden": true
   },
   "source": [
    "### Remove columns that are Nearly all Null"
   ]
  },
  {
   "cell_type": "code",
   "execution_count": 8,
   "metadata": {
    "hidden": true
   },
   "outputs": [
    {
     "name": "stdout",
     "output_type": "stream",
     "text": [
      "<class 'pandas.core.frame.DataFrame'>\n",
      "RangeIndex: 3526 entries, 0 to 3525\n",
      "Data columns (total 29 columns):\n",
      " #   Column                           Non-Null Count  Dtype \n",
      "---  ------                           --------------  ----- \n",
      " 0   Unnamed: 0                       3526 non-null   int64 \n",
      " 1   SHA1 Fingerprint:                3526 non-null   object\n",
      " 2   Certificate Common Name (CN):    3524 non-null   object\n",
      " 3   Issuer Distinguished Name (DN):  3524 non-null   object\n",
      " 4   TLS Version:                     3526 non-null   object\n",
      " 5   First seen:                      3526 non-null   object\n",
      " 6   Last seen:                       3526 non-null   object\n",
      " 7   Status:                          3526 non-null   object\n",
      " 8   Listing reason:                  3523 non-null   object\n",
      " 9   Listing date:                    3523 non-null   object\n",
      " 10  Malware samples:                 3526 non-null   object\n",
      " 11  Botnet C&Cs:                     3526 non-null   int64 \n",
      " 12  Timestamp (UTC)                  3526 non-null   object\n",
      " 13  Malware Sample (MD5 hash)        3526 non-null   object\n",
      " 14  VT                               2674 non-null   object\n",
      " 15  Signature                        3128 non-null   object\n",
      " 16  Botnet C&C (IP:port)             3526 non-null   object\n",
      " 17  CA_ISSUER_CN                     2913 non-null   object\n",
      " 18  CA_ISSUER_C                      830 non-null    object\n",
      " 19  CA_ISSUER_ST                     510 non-null    object\n",
      " 20  CA_ISSUER_O                      830 non-null    object\n",
      " 21  CA_ISSUER_L                      454 non-null    object\n",
      " 22  CA_ISSUER_emailAddress           186 non-null    object\n",
      " 23  CA_SUBJECT_CN                    2913 non-null   object\n",
      " 24  CA_SUBJECT_C                     830 non-null    object\n",
      " 25  CA_SUBJECT_ST                    520 non-null    object\n",
      " 26  CA_SUBJECT_O                     840 non-null    object\n",
      " 27  CA_SUBJECT_L                     464 non-null    object\n",
      " 28  CA_SUBJECT_emailAddress          201 non-null    object\n",
      "dtypes: int64(2), object(27)\n",
      "memory usage: 799.0+ KB\n"
     ]
    }
   ],
   "source": [
    "#define threshold for columns to remove (remove columns that are greater than thresh% null)\n",
    "thresh = 0.95\n",
    "\n",
    "#use dropna to remove values\n",
    "df = df.dropna(thresh=len(df)*(1-thresh),axis=1)\n",
    "\n",
    "#inspect remaining columns\n",
    "df.info()"
   ]
  },
  {
   "cell_type": "markdown",
   "metadata": {
    "heading_collapsed": true
   },
   "source": [
    "## Value Count Chart and Rankings"
   ]
  },
  {
   "cell_type": "code",
   "execution_count": 9,
   "metadata": {
    "hidden": true,
    "scrolled": false
   },
   "outputs": [
    {
     "data": {
      "application/vnd.jupyter.widget-view+json": {
       "model_id": "463a009cc01a464ab76d3118fc463932",
       "version_major": 2,
       "version_minor": 0
      },
      "text/plain": [
       "VBox(children=(HBox(children=(Dropdown(options=('Unnamed: 0', 'SHA1 Fingerprint:', 'Certificate Common Name (C…"
      ]
     },
     "metadata": {},
     "output_type": "display_data"
    }
   ],
   "source": [
    "#choose categorical data features to show sorted counts of\n",
    "options = df.columns\n",
    "\n",
    "dropdown_feature = widgets.Dropdown(options = options)\n",
    "\n",
    "pd.set_option('display.max_rows', 1000)\n",
    "pd.set_option('display.max_columns', None)\n",
    "\n",
    "dropdown_dir = widgets.Dropdown(options = ['Descending','Ascending'])\n",
    "\n",
    "slider = widgets.BoundedFloatText(min=1, max=1000,step=1,description='Top N:',value=10)\n",
    "\n",
    "output_feat1 = widgets.Output()\n",
    "plot_output1 = widgets.Output()\n",
    "\n",
    "dropdown_feature.observe(featEventHandler, names='value')\n",
    "dropdown_dir.observe(dirEventHandler, names='value')\n",
    "slider.observe(countHandler,names='value')\n",
    "\n",
    "tab = widgets.Tab([plot_output1,output_feat1])\n",
    "tab.set_title(0, 'Plot Top/Bottom')\n",
    "tab.set_title(1, 'Explore Data')\n",
    "\n",
    "dashboard = widgets.VBox([widgets.HBox([dropdown_feature, dropdown_dir,slider]), tab])\n",
    "display(dashboard)"
   ]
  },
  {
   "cell_type": "markdown",
   "metadata": {
    "heading_collapsed": true
   },
   "source": [
    "## Histogram - Need to Manually Input Features"
   ]
  },
  {
   "cell_type": "code",
   "execution_count": 10,
   "metadata": {
    "hidden": true
   },
   "outputs": [
    {
     "data": {
      "application/vnd.jupyter.widget-view+json": {
       "model_id": "97822b9269b441b7942e26dca809a8bf",
       "version_major": 2,
       "version_minor": 0
      },
      "text/plain": [
       "VBox(children=(HBox(children=(Dropdown(options=('SELECT FEATURE',), value='SELECT FEATURE'), Dropdown(options=…"
      ]
     },
     "metadata": {},
     "output_type": "display_data"
    }
   ],
   "source": [
    "#choose numeric features to display in histogram and in explore data tab\n",
    "input_list = ['SELECT FEATURE']\n",
    "\n",
    "\n",
    "dropdown_feature2 = widgets.Dropdown(options = input_list)\n",
    "dropdown_dir2 = widgets.Dropdown(options = ['Descending','Ascending'])\n",
    "slider2 = widgets.BoundedFloatText(min=1, max=1000,step=1,description='N:',value=10)\n",
    "\n",
    "output_feat2 = widgets.Output()\n",
    "plot_output2 = widgets.Output()\n",
    "\n",
    "dropdown_feature2.observe(featEventHandler2, names='value')\n",
    "dropdown_dir2.observe(dirEventHandler2, names='value')\n",
    "slider2.observe(countHandler2, names='value')\n",
    "\n",
    "tab = widgets.Tab([plot_output2,output_feat2])\n",
    "tab.set_title(0, 'Plot Histogram')\n",
    "tab.set_title(1, 'Explore Data')\n",
    "\n",
    "dashboard = widgets.VBox([widgets.HBox([dropdown_feature2, dropdown_dir2,slider2]), tab])\n",
    "display(dashboard)"
   ]
  },
  {
   "cell_type": "markdown",
   "metadata": {},
   "source": [
    "## Custom Filter"
   ]
  },
  {
   "cell_type": "code",
   "execution_count": 11,
   "metadata": {},
   "outputs": [],
   "source": [
    "pd.set_option('display.max_columns', None)\n",
    "\n",
    "search_df = df.fillna('NA')\n",
    "search_df = search_df.replace(np.nan, 'NaN', regex=True)\n",
    "search_df = search_df.applymap(str)\n",
    "\n",
    "output_df2 = widgets.Output()\n",
    "\n",
    "entry2 = widgets.Text(\n",
    "    placeholder='Type Something',\n",
    "    description='Search:',\n",
    "    disabled=False\n",
    ")\n",
    "\n",
    "dropdown2 = widgets.Dropdown(description = 'In Column:',options = df.columns)\n",
    "\n",
    "entry2.observe(EntryEventHandler,names='value')\n",
    "dropdown2.observe(ColumnEventHandler,names='value')\n",
    "\n",
    "dashboard3 = widgets.VBox([widgets.HBox([entry2, dropdown2]), output_df2])"
   ]
  },
  {
   "cell_type": "code",
   "execution_count": 12,
   "metadata": {},
   "outputs": [
    {
     "data": {
      "application/vnd.jupyter.widget-view+json": {
       "model_id": "21c68ebbab99477b91bb027a11f201f4",
       "version_major": 2,
       "version_minor": 0
      },
      "text/plain": [
       "VBox(children=(HBox(children=(Text(value='', description='Search:', placeholder='Type Something'), Dropdown(de…"
      ]
     },
     "metadata": {},
     "output_type": "display_data"
    }
   ],
   "source": [
    "display(dashboard3)"
   ]
  }
 ],
 "metadata": {
  "hide_input": false,
  "kernelspec": {
   "display_name": "Python 3",
   "language": "python",
   "name": "python3"
  },
  "language_info": {
   "codemirror_mode": {
    "name": "ipython",
    "version": 3
   },
   "file_extension": ".py",
   "mimetype": "text/x-python",
   "name": "python",
   "nbconvert_exporter": "python",
   "pygments_lexer": "ipython3",
   "version": "3.7.6"
  },
  "toc": {
   "base_numbering": 1,
   "nav_menu": {},
   "number_sections": true,
   "sideBar": true,
   "skip_h1_title": false,
   "title_cell": "Table of Contents",
   "title_sidebar": "Contents",
   "toc_cell": false,
   "toc_position": {},
   "toc_section_display": true,
   "toc_window_display": false
  }
 },
 "nbformat": 4,
 "nbformat_minor": 4
}
